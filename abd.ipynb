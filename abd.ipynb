{
 "cells": [
  {
   "cell_type": "code",
   "execution_count": null,
   "metadata": {},
   "outputs": [],
   "source": [
    "import sympy as sp\n",
    "\n",
    "a11, a12 = sp.symbols('a11 a12', real=True)\n",
    "a21, a22 = sp.symbols('a21 a22', real=True)\n",
    "A = sp.Matrix(\n",
    "    [\n",
    "        [a11, a12],\n",
    "        [a21, a22],\n",
    "    ]\n",
    ")\n",
    "\n",
    "orth = (A.T @ A - sp.eye(2)).norm(ord='fro') ** 2\n",
    "\n",
    "avec = sp.Matrix([a11, a12, a21, a22])\n",
    "\n"
   ]
  },
  {
   "cell_type": "code",
   "execution_count": null,
   "metadata": {},
   "outputs": [],
   "source": [
    "orth"
   ]
  },
  {
   "cell_type": "code",
   "execution_count": null,
   "metadata": {},
   "outputs": [],
   "source": [
    "grad = sp.Matrix([orth.diff(x) for x in avec])\n",
    "grad"
   ]
  },
  {
   "cell_type": "code",
   "execution_count": null,
   "metadata": {},
   "outputs": [],
   "source": [
    "hess = sp.Matrix(\n",
    "    [\n",
    "        [grad[i].diff(avec[j]) for j in range(4)]\n",
    "        for i in range(4)\n",
    "    ]\n",
    ")\n",
    "hess"
   ]
  },
  {
   "cell_type": "code",
   "execution_count": null,
   "metadata": {},
   "outputs": [],
   "source": [
    "hess.inv()"
   ]
  },
  {
   "cell_type": "code",
   "execution_count": null,
   "metadata": {},
   "outputs": [],
   "source": [
    "import sympy as sp\n",
    "from sympy.utilities.codegen import codegen\n",
    "def gen_rust(fn_name, expr):\n",
    "    return codegen(\n",
    "        (fn_name, expr),\n",
    "        language=\"Rust\",\n",
    "        prefix=\"rust_code\"\n",
    "    )[0][1]"
   ]
  },
  {
   "cell_type": "code",
   "execution_count": null,
   "metadata": {},
   "outputs": [],
   "source": [
    "for i, g in enumerate(grad):\n",
    "    print(gen_rust(f\"grad_{i}\", g))\n",
    "    print()"
   ]
  },
  {
   "cell_type": "code",
   "execution_count": null,
   "metadata": {},
   "outputs": [],
   "source": [
    "for i in range(hess.shape[0]):\n",
    "    for j in range(hess.shape[1]):\n",
    "        h = hess[i, j]\n",
    "        print(gen_rust(f\"affine_hess_{i}_{j}\", h))\n",
    "        print()"
   ]
  },
  {
   "cell_type": "markdown",
   "metadata": {},
   "source": [
    "## Contact\n",
    "node -> affine"
   ]
  },
  {
   "cell_type": "code",
   "execution_count": null,
   "metadata": {},
   "outputs": [],
   "source": [
    "import sympy as sp\n",
    "\n",
    "from sympy.utilities.codegen import codegen\n",
    "def gen_rust(fn_name, expr):\n",
    "    return codegen(\n",
    "        (fn_name, expr),\n",
    "        language=\"Rust\",\n",
    "        prefix=\"rust_code\"\n",
    "    )[0][1]\n",
    "\n",
    "# initial position\n",
    "px, py = sp.symbols('px py', real=True)\n",
    "ux, uy, vx, vy = sp.symbols('ux uy vx vy', real=True)\n",
    "\n",
    "# 定义向量\n",
    "u = sp.Matrix([ux, uy])\n",
    "v = sp.Matrix([vx, vy])\n",
    "p = sp.Matrix([px, py])\n",
    "\n",
    "a11, a12 = sp.symbols('a11 a12', real=True)\n",
    "a21, a22 = sp.symbols('a21 a22', real=True)\n",
    "tx, ty = sp.symbols('tx ty', real=True)\n",
    "A = sp.Matrix(\n",
    "    [\n",
    "        [a11, a12],\n",
    "        [a21, a22],\n",
    "    ]\n",
    ")\n",
    "t = sp.Matrix([tx, ty])\n",
    "\n",
    "x = A @ p + t\n",
    "\n",
    "q = sp.Matrix([tx, ty, a11, a12, a21, a22])\n"
   ]
  },
  {
   "cell_type": "markdown",
   "metadata": {},
   "source": [
    "## case 1"
   ]
  },
  {
   "cell_type": "code",
   "execution_count": null,
   "metadata": {},
   "outputs": [],
   "source": [
    "u_v = v - u\n",
    "u_x = x - u\n",
    "\n",
    "# if uv.dot(ux) <= 0\n",
    "dist = u_x.norm()\n",
    "grad1 = dist.diff(q)\n",
    "grad1"
   ]
  },
  {
   "cell_type": "code",
   "execution_count": null,
   "metadata": {},
   "outputs": [],
   "source": [
    "for i in range(6):\n",
    "    print(gen_rust(f\"grad_case1_{i}\", grad1[i]))"
   ]
  },
  {
   "cell_type": "code",
   "execution_count": null,
   "metadata": {},
   "outputs": [],
   "source": [
    "hess1 = sp.Matrix.zeros(len(q), len(q))\n",
    "for i in range(len(q)):\n",
    "    for j in range(len(q)):\n",
    "        hess1[i, j] = dist.diff(q[i]).diff(q[j])\n",
    "\n",
    "hess1\n"
   ]
  },
  {
   "cell_type": "code",
   "execution_count": null,
   "metadata": {},
   "outputs": [],
   "source": [
    "for i in range(6):\n",
    "    for j in range(6):\n",
    "        print(gen_rust(f\"hess_case1_{i}_{j}\", hess1[i, j]))"
   ]
  },
  {
   "cell_type": "markdown",
   "metadata": {},
   "source": [
    "case 2"
   ]
  },
  {
   "cell_type": "code",
   "execution_count": null,
   "metadata": {},
   "outputs": [],
   "source": [
    "import sympy as sp\n",
    "\n",
    "from sympy.utilities.codegen import codegen\n",
    "def gen_rust(fn_name, expr):\n",
    "    return codegen(\n",
    "        (fn_name, expr),\n",
    "        language=\"Rust\",\n",
    "        prefix=\"rust_code\"\n",
    "    )[0][1]\n",
    "\n",
    "# initial position\n",
    "px, py = sp.symbols('px py', real=True)\n",
    "ux, uy, vx, vy = sp.symbols('ux uy vx vy', real=True)\n",
    "\n",
    "# 定义向量\n",
    "u = sp.Matrix([ux, uy])\n",
    "v = sp.Matrix([vx, vy])\n",
    "p = sp.Matrix([px, py])\n",
    "\n",
    "a11, a12 = sp.symbols('a11 a12', real=True)\n",
    "a21, a22 = sp.symbols('a21 a22', real=True)\n",
    "tx, ty = sp.symbols('tx ty', real=True)\n",
    "A = sp.Matrix(\n",
    "    [\n",
    "        [a11, a12],\n",
    "        [a21, a22],\n",
    "    ]\n",
    ")\n",
    "t = sp.Matrix([tx, ty])\n",
    "\n",
    "x = A @ p + t\n",
    "\n",
    "q = sp.Matrix([tx, ty, a11, a12, a21, a22])\n",
    "\n",
    "\n",
    "################## compute ##################\n",
    "dist = (x - v).norm()\n",
    "hess2 = sp.Matrix.zeros(len(q), len(q))\n",
    "for i in range(len(q)):\n",
    "    for j in range(len(q)):\n",
    "        hess2[i, j] = dist.diff(q[i]).diff(q[j])\n",
    "\n",
    "hess2"
   ]
  },
  {
   "cell_type": "code",
   "execution_count": null,
   "metadata": {},
   "outputs": [],
   "source": [
    "for i in range(6):\n",
    "    for j in range(6):\n",
    "        print(gen_rust(f\"hess_case2_{i}_{j}\", hess2[i, j]))"
   ]
  },
  {
   "cell_type": "markdown",
   "metadata": {},
   "source": [
    "case3"
   ]
  },
  {
   "cell_type": "code",
   "execution_count": null,
   "metadata": {},
   "outputs": [],
   "source": [
    "uv = v - u\n",
    "ux = x - u\n",
    "\n",
    "dist = abs(sp.Matrix([[uv, ux]]).det()) / uv.norm()\n",
    "\n",
    "grad3 = dist.diff(q)"
   ]
  },
  {
   "cell_type": "code",
   "execution_count": null,
   "metadata": {},
   "outputs": [],
   "source": [
    "for i in range(6):\n",
    "    print(gen_rust(f\"grad_case3_{i}\", grad3[i]))"
   ]
  },
  {
   "cell_type": "code",
   "execution_count": 6,
   "metadata": {},
   "outputs": [
    {
     "data": {
      "text/latex": [
       "$\\displaystyle \\left[\\begin{matrix}0 & 0 & 0 & 0 & 0 & 0\\\\0 & 0 & 0 & 0 & 0 & 0\\\\0 & 0 & 0 & 0 & 0 & 0\\\\0 & 0 & 0 & 0 & 0 & 0\\\\0 & 0 & 0 & 0 & 0 & 0\\\\0 & 0 & 0 & 0 & 0 & 0\\end{matrix}\\right]$"
      ],
      "text/plain": [
       "Matrix([\n",
       "[0, 0, 0, 0, 0, 0],\n",
       "[0, 0, 0, 0, 0, 0],\n",
       "[0, 0, 0, 0, 0, 0],\n",
       "[0, 0, 0, 0, 0, 0],\n",
       "[0, 0, 0, 0, 0, 0],\n",
       "[0, 0, 0, 0, 0, 0]])"
      ]
     },
     "execution_count": 6,
     "metadata": {},
     "output_type": "execute_result"
    }
   ],
   "source": [
    "import sympy as sp\n",
    "from sympy.utilities.codegen import codegen\n",
    "\n",
    "# 定义符号\n",
    "px, py = sp.symbols('px py', real=True)\n",
    "ux, uy, vx, vy = sp.symbols('ux uy vx vy', real=True)\n",
    "tx, ty = sp.symbols('tx ty', real=True)\n",
    "a11, a12, a21, a22 = sp.symbols('a11 a12 a21 a22', real=True)\n",
    "\n",
    "# 定义向量\n",
    "u = sp.Matrix([ux, uy])\n",
    "v = sp.Matrix([vx, vy])\n",
    "p = sp.Matrix([px, py])\n",
    "A = sp.Matrix([[a11, a12], [a21, a22]])\n",
    "t = sp.Matrix([tx, ty])\n",
    "\n",
    "# 计算点 x\n",
    "x = A @ p + t\n",
    "\n",
    "# 计算直线 uv 的方向向量和法向量\n",
    "d = v - u\n",
    "n = sp.Matrix([-d[1], d[0]])\n",
    "\n",
    "# 计算点 x 到直线 uv 的距离\n",
    "distance = (n.dot(x - u)) / n.norm()\n",
    "\n",
    "# 定义 q\n",
    "q = sp.Matrix([tx, ty, a11, a12, a21, a22])\n",
    "\n",
    "# 计算距离对 q 的梯度\n",
    "grad_distance = sp.Matrix([sp.diff(distance, q_i) for q_i in q])\n",
    "\n",
    "# 计算 Hessian 矩阵\n",
    "hessian_distance = sp.Matrix([[sp.diff(grad_distance[i], q_j) for q_j in q] for i in range(len(q))])\n",
    "\n",
    "hessian_distance"
   ]
  },
  {
   "cell_type": "code",
   "execution_count": null,
   "metadata": {},
   "outputs": [],
   "source": [
    "for i in range(6):\n",
    "    for j in range(6):\n",
    "        print(gen_rust(f\"hess_case3_{i}_{j}\", hess3[i, j]))"
   ]
  },
  {
   "cell_type": "code",
   "execution_count": 7,
   "metadata": {},
   "outputs": [
    {
     "data": {
      "text/latex": [
       "$\\displaystyle \\left[\\begin{matrix}a_{11} px + a_{12} py + tx\\\\a_{21} px + a_{22} py + ty\\end{matrix}\\right]$"
      ],
      "text/plain": [
       "Matrix([\n",
       "[a11*px + a12*py + tx],\n",
       "[a21*px + a22*py + ty]])"
      ]
     },
     "execution_count": 7,
     "metadata": {},
     "output_type": "execute_result"
    }
   ],
   "source": [
    "x"
   ]
  },
  {
   "cell_type": "code",
   "execution_count": null,
   "metadata": {},
   "outputs": [],
   "source": []
  },
  {
   "cell_type": "code",
   "execution_count": null,
   "metadata": {},
   "outputs": [],
   "source": [
    "sp.DiracDelta()"
   ]
  },
  {
   "cell_type": "code",
   "execution_count": null,
   "metadata": {},
   "outputs": [],
   "source": []
  },
  {
   "cell_type": "code",
   "execution_count": null,
   "metadata": {},
   "outputs": [],
   "source": []
  },
  {
   "cell_type": "code",
   "execution_count": null,
   "metadata": {},
   "outputs": [],
   "source": []
  },
  {
   "cell_type": "code",
   "execution_count": null,
   "metadata": {},
   "outputs": [],
   "source": []
  },
  {
   "cell_type": "code",
   "execution_count": null,
   "metadata": {},
   "outputs": [],
   "source": []
  },
  {
   "cell_type": "code",
   "execution_count": null,
   "metadata": {},
   "outputs": [],
   "source": []
  },
  {
   "cell_type": "code",
   "execution_count": null,
   "metadata": {},
   "outputs": [],
   "source": []
  },
  {
   "cell_type": "code",
   "execution_count": null,
   "metadata": {},
   "outputs": [],
   "source": []
  },
  {
   "cell_type": "code",
   "execution_count": null,
   "metadata": {},
   "outputs": [],
   "source": []
  },
  {
   "cell_type": "code",
   "execution_count": null,
   "metadata": {},
   "outputs": [],
   "source": []
  }
 ],
 "metadata": {
  "kernelspec": {
   "display_name": "playground",
   "language": "python",
   "name": "python3"
  },
  "language_info": {
   "codemirror_mode": {
    "name": "ipython",
    "version": 3
   },
   "file_extension": ".py",
   "mimetype": "text/x-python",
   "name": "python",
   "nbconvert_exporter": "python",
   "pygments_lexer": "ipython3",
   "version": "3.10.13"
  }
 },
 "nbformat": 4,
 "nbformat_minor": 2
}
