{
 "cells": [
  {
   "cell_type": "code",
   "execution_count": 1,
   "metadata": {},
   "outputs": [],
   "source": [
    "import sympy as sp\n",
    "\n",
    "a11, a12 = sp.symbols('a11 a12', real=True)\n",
    "a21, a22 = sp.symbols('a21 a22', real=True)\n",
    "A = sp.Matrix(\n",
    "    [\n",
    "        [a11, a12],\n",
    "        [a21, a22],\n",
    "    ]\n",
    ")\n",
    "\n",
    "orth = (A.T @ A - sp.eye(2)).norm(ord='fro') ** 2\n",
    "\n",
    "avec = sp.Matrix([a11, a12, a21, a22])\n",
    "\n"
   ]
  },
  {
   "cell_type": "code",
   "execution_count": null,
   "metadata": {},
   "outputs": [],
   "source": [
    "print(gen_rust(\"orth\", orth))"
   ]
  },
  {
   "cell_type": "code",
   "execution_count": 2,
   "metadata": {},
   "outputs": [
    {
     "data": {
      "text/latex": [
       "$\\displaystyle \\left[\\begin{matrix}4 a_{11} \\left(a_{11}^{2} + a_{21}^{2} - 1\\right) + 4 a_{12} \\left(a_{11} a_{12} + a_{21} a_{22}\\right)\\\\4 a_{11} \\left(a_{11} a_{12} + a_{21} a_{22}\\right) + 4 a_{12} \\left(a_{12}^{2} + a_{22}^{2} - 1\\right)\\\\4 a_{21} \\left(a_{11}^{2} + a_{21}^{2} - 1\\right) + 4 a_{22} \\left(a_{11} a_{12} + a_{21} a_{22}\\right)\\\\4 a_{21} \\left(a_{11} a_{12} + a_{21} a_{22}\\right) + 4 a_{22} \\left(a_{12}^{2} + a_{22}^{2} - 1\\right)\\end{matrix}\\right]$"
      ],
      "text/plain": [
       "Matrix([\n",
       "[4*a11*(a11**2 + a21**2 - 1) + 4*a12*(a11*a12 + a21*a22)],\n",
       "[4*a11*(a11*a12 + a21*a22) + 4*a12*(a12**2 + a22**2 - 1)],\n",
       "[4*a21*(a11**2 + a21**2 - 1) + 4*a22*(a11*a12 + a21*a22)],\n",
       "[4*a21*(a11*a12 + a21*a22) + 4*a22*(a12**2 + a22**2 - 1)]])"
      ]
     },
     "execution_count": 2,
     "metadata": {},
     "output_type": "execute_result"
    }
   ],
   "source": [
    "grad = sp.Matrix([orth.diff(x) for x in avec])\n",
    "grad"
   ]
  },
  {
   "cell_type": "code",
   "execution_count": 3,
   "metadata": {},
   "outputs": [
    {
     "data": {
      "text/latex": [
       "$\\displaystyle \\left[\\begin{matrix}12 a_{11}^{2} + 4 a_{12}^{2} + 4 a_{21}^{2} - 4 & 8 a_{11} a_{12} + 4 a_{21} a_{22} & 8 a_{11} a_{21} + 4 a_{12} a_{22} & 4 a_{12} a_{21}\\\\8 a_{11} a_{12} + 4 a_{21} a_{22} & 4 a_{11}^{2} + 12 a_{12}^{2} + 4 a_{22}^{2} - 4 & 4 a_{11} a_{22} & 4 a_{11} a_{21} + 8 a_{12} a_{22}\\\\8 a_{11} a_{21} + 4 a_{12} a_{22} & 4 a_{11} a_{22} & 4 a_{11}^{2} + 12 a_{21}^{2} + 4 a_{22}^{2} - 4 & 4 a_{11} a_{12} + 8 a_{21} a_{22}\\\\4 a_{12} a_{21} & 4 a_{11} a_{21} + 8 a_{12} a_{22} & 4 a_{11} a_{12} + 8 a_{21} a_{22} & 4 a_{12}^{2} + 4 a_{21}^{2} + 12 a_{22}^{2} - 4\\end{matrix}\\right]$"
      ],
      "text/plain": [
       "Matrix([\n",
       "[12*a11**2 + 4*a12**2 + 4*a21**2 - 4,               8*a11*a12 + 4*a21*a22,               8*a11*a21 + 4*a12*a22,                           4*a12*a21],\n",
       "[              8*a11*a12 + 4*a21*a22, 4*a11**2 + 12*a12**2 + 4*a22**2 - 4,                           4*a11*a22,               4*a11*a21 + 8*a12*a22],\n",
       "[              8*a11*a21 + 4*a12*a22,                           4*a11*a22, 4*a11**2 + 12*a21**2 + 4*a22**2 - 4,               4*a11*a12 + 8*a21*a22],\n",
       "[                          4*a12*a21,               4*a11*a21 + 8*a12*a22,               4*a11*a12 + 8*a21*a22, 4*a12**2 + 4*a21**2 + 12*a22**2 - 4]])"
      ]
     },
     "execution_count": 3,
     "metadata": {},
     "output_type": "execute_result"
    }
   ],
   "source": [
    "hess = sp.Matrix(\n",
    "    [\n",
    "        [grad[i].diff(avec[j]) for j in range(4)]\n",
    "        for i in range(4)\n",
    "    ]\n",
    ")\n",
    "hess"
   ]
  },
  {
   "cell_type": "code",
   "execution_count": null,
   "metadata": {},
   "outputs": [],
   "source": [
    "import sympy as sp\n",
    "from sympy.utilities.codegen import codegen\n",
    "def gen_rust(fn_name, expr):\n",
    "    return codegen(\n",
    "        (fn_name, expr),\n",
    "        language=\"Rust\",\n",
    "        prefix=\"rust_code\"\n",
    "    )[0][1]"
   ]
  },
  {
   "cell_type": "code",
   "execution_count": null,
   "metadata": {},
   "outputs": [],
   "source": [
    "for i, g in enumerate(grad):\n",
    "    print(gen_rust(f\"grad_{i}\", g))\n",
    "    print()"
   ]
  },
  {
   "cell_type": "code",
   "execution_count": null,
   "metadata": {},
   "outputs": [],
   "source": [
    "for i in range(hess.shape[0]):\n",
    "    for j in range(hess.shape[1]):\n",
    "        h = hess[i, j]\n",
    "        print(gen_rust(f\"hess_{i}_{j}\", g))\n",
    "        print()"
   ]
  },
  {
   "cell_type": "code",
   "execution_count": null,
   "metadata": {},
   "outputs": [],
   "source": [
    "hess"
   ]
  },
  {
   "cell_type": "code",
   "execution_count": null,
   "metadata": {},
   "outputs": [],
   "source": []
  },
  {
   "cell_type": "code",
   "execution_count": null,
   "metadata": {},
   "outputs": [],
   "source": []
  },
  {
   "cell_type": "code",
   "execution_count": null,
   "metadata": {},
   "outputs": [],
   "source": []
  },
  {
   "cell_type": "code",
   "execution_count": null,
   "metadata": {},
   "outputs": [],
   "source": []
  },
  {
   "cell_type": "code",
   "execution_count": null,
   "metadata": {},
   "outputs": [],
   "source": []
  },
  {
   "cell_type": "code",
   "execution_count": null,
   "metadata": {},
   "outputs": [],
   "source": []
  },
  {
   "cell_type": "code",
   "execution_count": null,
   "metadata": {},
   "outputs": [],
   "source": []
  },
  {
   "cell_type": "code",
   "execution_count": null,
   "metadata": {},
   "outputs": [],
   "source": []
  },
  {
   "cell_type": "code",
   "execution_count": null,
   "metadata": {},
   "outputs": [],
   "source": []
  },
  {
   "cell_type": "code",
   "execution_count": null,
   "metadata": {},
   "outputs": [],
   "source": []
  },
  {
   "cell_type": "code",
   "execution_count": null,
   "metadata": {},
   "outputs": [],
   "source": []
  },
  {
   "cell_type": "code",
   "execution_count": null,
   "metadata": {},
   "outputs": [],
   "source": []
  },
  {
   "cell_type": "code",
   "execution_count": null,
   "metadata": {},
   "outputs": [],
   "source": []
  },
  {
   "cell_type": "code",
   "execution_count": null,
   "metadata": {},
   "outputs": [],
   "source": []
  },
  {
   "cell_type": "code",
   "execution_count": null,
   "metadata": {},
   "outputs": [],
   "source": []
  },
  {
   "cell_type": "code",
   "execution_count": null,
   "metadata": {},
   "outputs": [],
   "source": []
  },
  {
   "cell_type": "code",
   "execution_count": null,
   "metadata": {},
   "outputs": [],
   "source": []
  },
  {
   "cell_type": "code",
   "execution_count": null,
   "metadata": {},
   "outputs": [],
   "source": []
  },
  {
   "cell_type": "code",
   "execution_count": null,
   "metadata": {},
   "outputs": [],
   "source": []
  },
  {
   "cell_type": "code",
   "execution_count": null,
   "metadata": {},
   "outputs": [],
   "source": []
  },
  {
   "cell_type": "code",
   "execution_count": null,
   "metadata": {},
   "outputs": [],
   "source": []
  }
 ],
 "metadata": {
  "kernelspec": {
   "display_name": "playground",
   "language": "python",
   "name": "python3"
  },
  "language_info": {
   "codemirror_mode": {
    "name": "ipython",
    "version": 3
   },
   "file_extension": ".py",
   "mimetype": "text/x-python",
   "name": "python",
   "nbconvert_exporter": "python",
   "pygments_lexer": "ipython3",
   "version": "3.10.13"
  }
 },
 "nbformat": 4,
 "nbformat_minor": 2
}
